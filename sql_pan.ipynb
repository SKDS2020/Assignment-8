{
 "cells": [
  {
   "cell_type": "markdown",
   "metadata": {},
   "source": [
    "## Q1: SQL-ODATA Knesset"
   ]
  },
  {
   "cell_type": "code",
   "execution_count": 1,
   "metadata": {},
   "outputs": [],
   "source": [
    "import sqlite3\n",
    "import pandas as pd"
   ]
  },
  {
   "cell_type": "code",
   "execution_count": 2,
   "metadata": {},
   "outputs": [],
   "source": [
    "prefix='https://knesset.gov.il/Odata/ParliamentInfo.svc/KNS_IsraelLawMinistry()' # Table URL - KNS_IsraelLawMinistry"
   ]
  },
  {
   "cell_type": "code",
   "execution_count": 3,
   "metadata": {},
   "outputs": [
    {
     "data": {
      "text/html": [
       "<div>\n",
       "<style scoped>\n",
       "    .dataframe tbody tr th:only-of-type {\n",
       "        vertical-align: middle;\n",
       "    }\n",
       "\n",
       "    .dataframe tbody tr th {\n",
       "        vertical-align: top;\n",
       "    }\n",
       "\n",
       "    .dataframe thead th {\n",
       "        text-align: right;\n",
       "    }\n",
       "</style>\n",
       "<table border=\"1\" class=\"dataframe\">\n",
       "  <thead>\n",
       "    <tr style=\"text-align: right;\">\n",
       "      <th></th>\n",
       "      <th>LawMinistryID</th>\n",
       "      <th>IsraelLawID</th>\n",
       "      <th>GovMinistryID</th>\n",
       "      <th>LastUpdatedDate</th>\n",
       "    </tr>\n",
       "  </thead>\n",
       "  <tbody>\n",
       "    <tr>\n",
       "      <th>0</th>\n",
       "      <td>2135419</td>\n",
       "      <td>2000001</td>\n",
       "      <td>4</td>\n",
       "      <td>2014-09-10T14:27:17.383</td>\n",
       "    </tr>\n",
       "    <tr>\n",
       "      <th>1</th>\n",
       "      <td>2135420</td>\n",
       "      <td>2000002</td>\n",
       "      <td>18</td>\n",
       "      <td>2014-09-10T14:27:17.383</td>\n",
       "    </tr>\n",
       "    <tr>\n",
       "      <th>2</th>\n",
       "      <td>2135421</td>\n",
       "      <td>2000005</td>\n",
       "      <td>426</td>\n",
       "      <td>2014-09-10T14:27:17.383</td>\n",
       "    </tr>\n",
       "    <tr>\n",
       "      <th>3</th>\n",
       "      <td>2135422</td>\n",
       "      <td>2000006</td>\n",
       "      <td>21</td>\n",
       "      <td>2014-09-10T14:27:17.383</td>\n",
       "    </tr>\n",
       "    <tr>\n",
       "      <th>4</th>\n",
       "      <td>2135423</td>\n",
       "      <td>2000007</td>\n",
       "      <td>13</td>\n",
       "      <td>2014-09-10T14:27:17.383</td>\n",
       "    </tr>\n",
       "  </tbody>\n",
       "</table>\n",
       "</div>"
      ],
      "text/plain": [
       "   LawMinistryID  IsraelLawID  GovMinistryID          LastUpdatedDate\n",
       "0        2135419      2000001              4  2014-09-10T14:27:17.383\n",
       "1        2135420      2000002             18  2014-09-10T14:27:17.383\n",
       "2        2135421      2000005            426  2014-09-10T14:27:17.383\n",
       "3        2135422      2000006             21  2014-09-10T14:27:17.383\n",
       "4        2135423      2000007             13  2014-09-10T14:27:17.383"
      ]
     },
     "execution_count": 3,
     "metadata": {},
     "output_type": "execute_result"
    }
   ],
   "source": [
    "df = pd.read_xml(prefix, xpath='//*[contains(name(),\"m:properties\")]')\n",
    "df.head()"
   ]
  },
  {
   "cell_type": "code",
   "execution_count": 4,
   "metadata": {},
   "outputs": [
    {
     "name": "stdout",
     "output_type": "stream",
     "text": [
      "(2135419, 2000001, 4, '2014-09-10T14:27:17.383')\n",
      "(2135420, 2000002, 18, '2014-09-10T14:27:17.383')\n",
      "(2135421, 2000005, 426, '2014-09-10T14:27:17.383')\n",
      "(2135422, 2000006, 21, '2014-09-10T14:27:17.383')\n",
      "(2135423, 2000007, 13, '2014-09-10T14:27:17.383')\n"
     ]
    }
   ],
   "source": [
    "table_name = \"sql_tbl\" # table and file name\n",
    "con = sqlite3.connect('{}.sqlite'.format(table_name)) # creates file\n",
    "df.to_sql(table_name, con, if_exists='replace', index=False) # writes to file\n",
    "cursor=con.execute(\"SELECT * FROM sql_tbl LIMIT 5\") # # sql query to display top4 data from table\n",
    "for r in cursor: print(r)\n",
    "con.close()  # close the connection"
   ]
  }
 ],
 "metadata": {
  "interpreter": {
   "hash": "821203d0b7be942b18cbbd219e05ff4af57f12afa49d20e52708bbb6ea37606d"
  },
  "kernelspec": {
   "display_name": "Python 3.7.11 ('final_prj')",
   "language": "python",
   "name": "python3"
  },
  "language_info": {
   "codemirror_mode": {
    "name": "ipython",
    "version": 3
   },
   "file_extension": ".py",
   "mimetype": "text/x-python",
   "name": "python",
   "nbconvert_exporter": "python",
   "pygments_lexer": "ipython3",
   "version": "3.7.11"
  },
  "orig_nbformat": 4
 },
 "nbformat": 4,
 "nbformat_minor": 2
}
