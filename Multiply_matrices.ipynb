{
 "cells": [
  {
   "cell_type": "markdown",
   "metadata": {},
   "source": [
    "## Q2 - Multiply matrices"
   ]
  },
  {
   "cell_type": "code",
   "execution_count": 1,
   "metadata": {},
   "outputs": [],
   "source": [
    "import gspread\n",
    "import numpy as np\n",
    "account = gspread.service_account(\"credentials.json\")"
   ]
  },
  {
   "cell_type": "markdown",
   "metadata": {},
   "source": [
    "### Reading"
   ]
  },
  {
   "cell_type": "code",
   "execution_count": 2,
   "metadata": {},
   "outputs": [],
   "source": [
    "# Open spreadsheet by name:\n",
    "spreadsheet1 = account.open(\"MATRIX_SS\")\n",
    "# Open sheet by name:\n",
    "sheet1 = spreadsheet1.worksheet(\"A\")\n",
    "sheet2 = spreadsheet1.worksheet(\"B\")"
   ]
  },
  {
   "cell_type": "markdown",
   "metadata": {},
   "source": [
    "### Multiplying the matrices"
   ]
  },
  {
   "cell_type": "code",
   "execution_count": 3,
   "metadata": {},
   "outputs": [
    {
     "name": "stdout",
     "output_type": "stream",
     "text": [
      "[[12 15  6]\n",
      " [30 39 15]\n",
      " [48 63 24]]\n"
     ]
    }
   ],
   "source": [
    "m1=sheet1.get_values()\n",
    "m2=sheet2.get_values()\n",
    "m1_lst_lst_int = [[int(num) for num in sub] for sub in m1]\n",
    "m2_lst_lst_int = [[int(num) for num in sub] for sub in m2]\n",
    "\n",
    "res=np.matmul(np.asarray(m1_lst_lst_int),np.asarray(m2_lst_lst_int))\n",
    "print (res)"
   ]
  },
  {
   "cell_type": "markdown",
   "metadata": {},
   "source": [
    "### Writing"
   ]
  },
  {
   "cell_type": "code",
   "execution_count": 4,
   "metadata": {},
   "outputs": [
    {
     "data": {
      "text/plain": [
       "{'spreadsheetId': '132P7hBRyvcYZ7CtLNIsydT8REgSoi_gdkK0Our7lXA0',\n",
       " 'updatedRange': 'A_times_B!A1:C3',\n",
       " 'updatedRows': 3,\n",
       " 'updatedColumns': 3,\n",
       " 'updatedCells': 9}"
      ]
     },
     "execution_count": 4,
     "metadata": {},
     "output_type": "execute_result"
    }
   ],
   "source": [
    "worksheet_list = spreadsheet1.worksheets() #get all worksheets\n",
    "\n",
    "result_worksheet_exist = [True for x in worksheet_list if x.title == \"A_times_B\"] \n",
    "if (result_worksheet_exist):\n",
    "    result_worksheet=spreadsheet1.worksheet(\"A_times_B\")\n",
    "    result_worksheet.clear()\n",
    "else:\n",
    "    result_worksheet=spreadsheet1.add_worksheet(title=\"A_times_B\", rows=\"100\", cols=\"20\")\n",
    "result_worksheet.update('A1', res.tolist())"
   ]
  }
 ],
 "metadata": {
  "interpreter": {
   "hash": "821203d0b7be942b18cbbd219e05ff4af57f12afa49d20e52708bbb6ea37606d"
  },
  "kernelspec": {
   "display_name": "Python 3.7.11 ('final_prj')",
   "language": "python",
   "name": "python3"
  },
  "language_info": {
   "codemirror_mode": {
    "name": "ipython",
    "version": 3
   },
   "file_extension": ".py",
   "mimetype": "text/x-python",
   "name": "python",
   "nbconvert_exporter": "python",
   "pygments_lexer": "ipython3",
   "version": "3.7.11"
  },
  "orig_nbformat": 4
 },
 "nbformat": 4,
 "nbformat_minor": 2
}
